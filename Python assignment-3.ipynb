{
 "cells": [
  {
   "cell_type": "code",
   "execution_count": 2,
   "metadata": {},
   "outputs": [
    {
     "name": "stdout",
     "output_type": "stream",
     "text": [
      "10\n"
     ]
    }
   ],
   "source": [
    "#1.Write program to implement your own myreduce function which works like reduce function\n",
    "list1=[1,2,3,4]\n",
    "def mysum(num1,num2):\n",
    "    return num1+num2\n",
    "def myreduce(fxn_name,list1):\n",
    "    myresult=list1[0]\n",
    "    for i in range(1,len(list1)):\n",
    "        myresult=mysum(myresult,list1[i])\n",
    "    return myresult\n",
    "a=myreduce(mysum,list1)\n",
    "print(a)"
   ]
  },
  {
   "cell_type": "code",
   "execution_count": 3,
   "metadata": {},
   "outputs": [
    {
     "name": "stdout",
     "output_type": "stream",
     "text": [
      "[22, 90, 0, 6]\n"
     ]
    }
   ],
   "source": [
    "# 2.Write program to implement your own myfilter function which works like filter function\n",
    "list1=[89,55,22,90,0,5,6]\n",
    "list2=[]\n",
    "def even(num):\n",
    "    if num%2==0:\n",
    "        return True\n",
    "def myfilter(fxn_name,seq):\n",
    "    for i in seq:\n",
    "        val=even(i)\n",
    "        if val==True:\n",
    "            list2.append(i)\n",
    "    return list2\n",
    "print(myfilter(even,list1))\n",
    "    "
   ]
  },
  {
   "cell_type": "code",
   "execution_count": 4,
   "metadata": {},
   "outputs": [
    {
     "data": {
      "text/plain": [
       "['x', 'xx', 'xxx', 'xxxx', 'y', 'yy', 'yyy', 'yyyy', 'z', 'zz', 'zzz', 'zzzz']"
      ]
     },
     "execution_count": 4,
     "metadata": {},
     "output_type": "execute_result"
    }
   ],
   "source": [
    "#Write list comprehensions to produce following list\n",
    "#1.['x','xx','xxx','xxxx','y','yy','yyy','yyyy','z','zz','zzz','zzzz']\n",
    "list1=['x','y','z']\n",
    "[i*j for i in list1 for j in range(1,5)]"
   ]
  },
  {
   "cell_type": "code",
   "execution_count": 5,
   "metadata": {},
   "outputs": [
    {
     "data": {
      "text/plain": [
       "['x', 'y', 'z', 'xx', 'yy', 'zz', 'xxx', 'yyy', 'zzz', 'xxxx', 'yyyy', 'zzzz']"
      ]
     },
     "execution_count": 5,
     "metadata": {},
     "output_type": "execute_result"
    }
   ],
   "source": [
    "#2.['x','y','z','xx','yy','zz','xxx','yyy','zzz','xxxx','yyyy','zzzz']\n",
    "list1=['x','y','z']\n",
    "[i*j for i in range(1,5) for j in list1]"
   ]
  },
  {
   "cell_type": "code",
   "execution_count": 6,
   "metadata": {},
   "outputs": [
    {
     "data": {
      "text/plain": [
       "[(1, 1), (2, 1), (3, 1), (1, 2), (2, 2), (3, 2), (1, 3), (2, 3), (3, 3)]"
      ]
     },
     "execution_count": 6,
     "metadata": {},
     "output_type": "execute_result"
    }
   ],
   "source": [
    "#3.[(1,1),(2,1),(3,1),(1,2),(2,2),(3,2),(1,3),(2,3),(3,3)]\n",
    "list1=[1,2,3]\n",
    "[(j,i) for i in list1 for j in range(1,4)]"
   ]
  },
  {
   "cell_type": "code",
   "execution_count": 5,
   "metadata": {},
   "outputs": [
    {
     "data": {
      "text/plain": [
       "[[2], [3], [4], [3], [4], [5], [4], [5], [6]]"
      ]
     },
     "execution_count": 5,
     "metadata": {},
     "output_type": "execute_result"
    }
   ],
   "source": [
    "#4.[[2],[3],[4],[3],[4],[5],[4],[5],[6]]\n",
    "\"\"\"\n",
    "list1=[]\n",
    "for i in range(2,5):\n",
    "    for j in range(3):\n",
    "        list1.append([i+j])\n",
    "list1\n",
    "\"\"\"\n",
    "[[i+j] for j in range(3) for i in range(2,5)]"
   ]
  },
  {
   "cell_type": "code",
   "execution_count": 8,
   "metadata": {},
   "outputs": [
    {
     "data": {
      "text/plain": [
       "[[2, 3, 4, 5], [3, 4, 5, 6], [4, 5, 6, 7], [5, 6, 7, 8]]"
      ]
     },
     "execution_count": 8,
     "metadata": {},
     "output_type": "execute_result"
    }
   ],
   "source": [
    "#5.[[2,3,4,5],[3,4,5,6],[4,5,6,7],[5,6,7,8]]\n",
    "[[i+j for j in range(2,6)] for i in range(4)]"
   ]
  }
 ],
 "metadata": {
  "kernelspec": {
   "display_name": "Python 3",
   "language": "python",
   "name": "python3"
  },
  "language_info": {
   "codemirror_mode": {
    "name": "ipython",
    "version": 3
   },
   "file_extension": ".py",
   "mimetype": "text/x-python",
   "name": "python",
   "nbconvert_exporter": "python",
   "pygments_lexer": "ipython3",
   "version": "3.8.5"
  }
 },
 "nbformat": 4,
 "nbformat_minor": 4
}
